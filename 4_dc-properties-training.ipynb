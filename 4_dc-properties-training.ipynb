{
 "cells": [
  {
   "cell_type": "markdown",
   "id": "78cfdcfc",
   "metadata": {},
   "source": [
    "# D.C. Properties - Condition Prediction"
   ]
  },
  {
   "cell_type": "markdown",
   "id": "b928662c",
   "metadata": {},
   "source": [
    "This notebook loads a subset of the DC Properties dataset to build an classification model that would predict the condition of a building. The columns on the data are:\n",
    "\n",
    " * **NUM_UNITS** - Number of Units\n",
    " * **ROOMS** - Number of Rooms\n",
    " * **BEDRM** - Number of Bedrooms\n",
    " * **BATHRM** - Number of Full Bathrooms\n",
    " * **HF_BATHRM** - Number of Half Bathrooms (no bathtub or shower)\n",
    " * **KITCHENS** - Number of kitchens\n",
    " * **STORIES** - Number of stories in primary dwelling\n",
    " * **HEAT** - Heating\n",
    " * **AC** - Cooling\n",
    " * **FIREPLACES** - Number of fireplaces\n",
    " * **ROOF** - Roof type\n",
    " * **EXTWALL** - Exterior wall\n",
    " * **AYB** - The earliest time the main portion of the building was built\n",
    " * **EYB** - The year an improvement was built more recent than actual year built\n",
    " * **YR_SALE** - Date of most recent sale\n",
    " * **CNDTN** - Condition\n",
    " * **GBA** - Gross building area in square feet\n",
    " * **LANDAREA** - Land area of property in square feet\n",
    " * **WARD** - Ward (District is divided into eight wards, each with approximately 75,000 residents)\n",
    " * **PRICE** - Price of most recent sale"
   ]
  },
  {
   "cell_type": "markdown",
   "id": "268cc662",
   "metadata": {},
   "source": [
    "## Imports and Config setting"
   ]
  },
  {
   "cell_type": "code",
   "execution_count": 1,
   "id": "ec40cab3",
   "metadata": {},
   "outputs": [],
   "source": [
    "import pandas as pd\n",
    "import numpy as np\n",
    "import seaborn as sns\n",
    "import matplotlib.pyplot as plt\n",
    "import math"
   ]
  },
  {
   "cell_type": "code",
   "execution_count": null,
   "id": "b3f49d40",
   "metadata": {},
   "outputs": [],
   "source": [
    "pd.set_option('display.max_columns', None)"
   ]
  },
  {
   "cell_type": "markdown",
   "id": "9432e42c",
   "metadata": {},
   "source": [
    "## Data loading and Selection"
   ]
  },
  {
   "cell_type": "markdown",
   "id": "cac688fd",
   "metadata": {},
   "source": [
    "Define a series of parameters that will be used in the notebook"
   ]
  },
  {
   "cell_type": "code",
   "execution_count": null,
   "id": "f744b5ba",
   "metadata": {},
   "outputs": [],
   "source": [
    "# Params\n",
    "input_data_path = '4_dc_properties_processed_zipped.csv'\n",
    "numerical_cols = ['NUM_UNITS', 'ROOMS', 'BEDRM', 'BATHRM', 'HF_BATHRM', 'KITCHENS',\n",
    "                   'STORIES', 'FIREPLACES', 'AYB', 'EYB', 'GBA', 'LANDAREA', 'X', 'Y', 'PRICE', 'YR_SALE']\n",
    "categorical_cols = ['HEAT', 'AC', 'ROOF', 'EXTWALL', 'CNDTN', 'WARD']"
   ]
  },
  {
   "cell_type": "code",
   "execution_count": null,
   "id": "5f9bf673-bcab-4c21-9f3e-1e27e44a939e",
   "metadata": {},
   "outputs": [],
   "source": [
    "X_train = pd.read_csv('4_x_train.csv', low_memory=False, index_col=0, compression='zip')\n",
    "X_test = pd.read_csv('4_x_test.csv', low_memory=False, index_col=0, compression='zip')\n",
    "y_train = pd.read_csv('4_y_train.csv', low_memory=False, index_col=0, compression='zip')\n",
    "y_test = pd.read_csv('4_y_test.csv', low_memory=False, index_col=0, compression='zip')\n"
   ]
  },
  {
   "cell_type": "markdown",
   "id": "cf788faa",
   "metadata": {},
   "source": [
    "Load the data and give a preview of it"
   ]
  },
  {
   "cell_type": "markdown",
   "id": "fa65a8ad",
   "metadata": {},
   "source": [
    "## Train model"
   ]
  },
  {
   "cell_type": "markdown",
   "id": "3f9d3b74",
   "metadata": {},
   "source": [
    "There are countless training algorithms that we could use. Let's take a second to think which one/s would you think would be a good fit for this case and why. "
   ]
  },
  {
   "cell_type": "code",
   "execution_count": null,
   "id": "a0f91e0e",
   "metadata": {},
   "outputs": [],
   "source": [
    "# Train a simple model\n"
   ]
  },
  {
   "cell_type": "markdown",
   "id": "3417e876",
   "metadata": {},
   "source": [
    "## Test model"
   ]
  },
  {
   "cell_type": "markdown",
   "id": "238fd7a1",
   "metadata": {},
   "source": [
    "In order to evaluate the performance of the model we want to obtain the predictions on the unseen data (test set)."
   ]
  },
  {
   "cell_type": "code",
   "execution_count": null,
   "id": "4fdcdb21",
   "metadata": {},
   "outputs": [],
   "source": [
    "# Predict the labels on the test set\n"
   ]
  },
  {
   "cell_type": "markdown",
   "id": "43698bb5",
   "metadata": {},
   "source": [
    "## Evaluate model"
   ]
  },
  {
   "cell_type": "markdown",
   "id": "6b602c8e",
   "metadata": {},
   "source": [
    "Finally, we can get the performance of the model using the predictions and the real labels of the test set"
   ]
  },
  {
   "cell_type": "code",
   "execution_count": null,
   "id": "b12490ab",
   "metadata": {},
   "outputs": [],
   "source": [
    "# Find the classification metrics on the test set\n"
   ]
  },
  {
   "cell_type": "code",
   "execution_count": null,
   "id": "c4fdc37e",
   "metadata": {},
   "outputs": [],
   "source": [
    "#plot confusion matrix"
   ]
  },
  {
   "cell_type": "code",
   "execution_count": 2,
   "id": "5c3d88f1",
   "metadata": {},
   "outputs": [],
   "source": [
    "from IPython import display\n",
    "\n",
    "display.Image(\"eval.png\")"
   ]
  },
  {
   "cell_type": "code",
   "execution_count": null,
   "id": "779dc0f7",
   "metadata": {},
   "outputs": [],
   "source": []
  },
  {
   "cell_type": "code",
   "execution_count": null,
   "id": "4b49bdff",
   "metadata": {},
   "outputs": [],
   "source": []
  }
 ],
 "metadata": {
  "kernelspec": {
   "display_name": "Python 3 (ipykernel)",
   "language": "python",
   "name": "python3"
  },
  "language_info": {
   "codemirror_mode": {
    "name": "ipython",
    "version": 3
   },
   "file_extension": ".py",
   "mimetype": "text/x-python",
   "name": "python",
   "nbconvert_exporter": "python",
   "pygments_lexer": "ipython3",
   "version": "3.10.9"
  }
 },
 "nbformat": 4,
 "nbformat_minor": 5
}
